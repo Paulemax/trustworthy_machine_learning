{
 "cells": [
  {
   "cell_type": "code",
   "execution_count": 11,
   "metadata": {},
   "outputs": [
    {
     "name": "stdout",
     "output_type": "stream",
     "text": [
      "Dataset MNIST\n",
      "    Number of datapoints: 60000\n",
      "    Root location: data\n",
      "    Split: Train\n",
      "    StandardTransform\n",
      "Transform: ToTensor() Dataset MNIST\n",
      "    Number of datapoints: 10000\n",
      "    Root location: data\n",
      "    Split: Test\n",
      "    StandardTransform\n",
      "Transform: ToTensor()\n"
     ]
    }
   ],
   "source": [
    "import torch\n",
    "from torchvision.transforms import ToTensor\n",
    "from torchvision import datasets\n",
    "\n",
    "\n",
    "training_data = datasets.MNIST(root=\"data\", download=True, train=True, transform=ToTensor())\n",
    "test_data = datasets.MNIST(root=\"data\", download=True, train=False, transform=ToTensor())\n",
    "\n",
    "print(training_data, test_data)\n"
   ]
  },
  {
   "cell_type": "code",
   "execution_count": 24,
   "metadata": {},
   "outputs": [
    {
     "data": {
      "image/png": "[encoded data removed]",
      "text/plain": [
       "<Figure size 576x576 with 9 Axes>"
      ]
     },
     "metadata": {
      "needs_background": "light"
     },
     "output_type": "display_data"
    }
   ],
   "source": [
    "# Some Visualization Stuff First\n",
    "import matplotlib.pyplot as plt\n",
    "from torch.utils.data import DataLoader\n",
    "\n",
    "# plot random images\n",
    "figure = plt.figure(figsize=(8, 8))\n",
    "cols, rows = 3, 3\n",
    "\n",
    "for i in range(1, cols * rows + 1):\n",
    "    sample_idx = torch.randint(len(training_data), size=(1,)).item()\n",
    "    img, label = training_data[sample_idx]\n",
    "    figure.add_subplot(rows, cols, i)\n",
    "    plt.axis(\"off\")\n",
    "    plt.imshow(img.squeeze(), cmap=\"gray\")\n",
    "plt.show()\n",
    "\n",
    "\n",
    "train_data_loader = DataLoader(training_data, batch_size=64, shuffle=True)\n",
    "test_data_loader = DataLoader(test_data, batch_size=64, shuffle=True)\n",
    "\n",
    "# calculate mean and std of the dataset (gray scale)\n",
    "std = []\n",
    "mean = []\n",
    "for image, _ in train_data_loader:\n",
    "    image.mean()\n",
    "    image.std()"
   ]
  },
  {
   "cell_type": "code",
   "execution_count": 20,
   "metadata": {},
   "outputs": [],
   "source": [
    "# Copy and Paste from : https://medium.com/@nutanbhogendrasharma/pytorch-convolutional-neural-network-with-mnist-dataset-4e8a4265e118\n",
    "import torch.nn as nn\n",
    "\n",
    "class CNN(nn.Module):\n",
    "\n",
    "    def __init__(self):\n",
    "        super(CNN, self).__init__()        \n",
    "        self.conv1 = nn.Sequential(         \n",
    "            nn.Conv2d(\n",
    "                in_channels=1,              \n",
    "                out_channels=16,            \n",
    "                kernel_size=5,              \n",
    "                stride=1,                   \n",
    "                padding=2,                  \n",
    "            ),                              \n",
    "            nn.ReLU(),                      \n",
    "            nn.MaxPool2d(kernel_size=2),    \n",
    "        )\n",
    "        self.conv2 = nn.Sequential(         \n",
    "            nn.Conv2d(16, 32, 5, 1, 2),     \n",
    "            nn.ReLU(),                      \n",
    "            nn.MaxPool2d(2),                \n",
    "        )\n",
    "        # fully connected layer, output 10 classes\n",
    "        self.out = nn.Linear(32 * 7 * 7, 10)    \n",
    "\n",
    "    def forward(self, x):\n",
    "        x = self.conv1(x)\n",
    "        x = self.conv2(x)        \n",
    "        # flatten the output of conv2 to (batch_size, 32 * 7 * 7)\n",
    "        x = x.view(x.size(0), -1)       \n",
    "        output = self.out(x)\n",
    "        return output, x    # return x for visualization\n"
   ]
  },
  {
   "cell_type": "code",
   "execution_count": 30,
   "metadata": {},
   "outputs": [],
   "source": [
    "from torch.autograd import Variable\n",
    "from torch import optim\n",
    "\n",
    "cnn = CNN()\n",
    "optimizer = optim.Adam(cnn.parameters(), lr = 0.01)   \n",
    "loss_func = nn.CrossEntropyLoss()   \n",
    "\n",
    "def train(num_epochs, cnn, loaders):\n",
    "    \n",
    "    # cnn.train()\n",
    "        \n",
    "    # Train the model\n",
    "    total_step = len(loaders['train'])\n",
    "        \n",
    "    for epoch in range(num_epochs):\n",
    "        for i, (images, labels) in enumerate(loaders['train']):\n",
    "            \n",
    "            # gives batch data, normalize x when iterate train_loader\n",
    "            b_x = Variable(images)   # batch x\n",
    "            b_y = Variable(labels)   # batch y\n",
    "\n",
    "            output = cnn(b_x)[0]               \n",
    "            loss = loss_func(output, b_y)\n",
    "            \n",
    "            # clear gradients for this training step   \n",
    "            optimizer.zero_grad()           \n",
    "            \n",
    "            # backpropagation, compute gradients \n",
    "            loss.backward()                # apply gradients             \n",
    "            optimizer.step()                \n",
    "            \n",
    "            if (i+1) % 100 == 0:\n",
    "                print ('Epoch [{}/{}], Step [{}/{}], Loss: {:.4f}'.format(epoch + 1, num_epochs, i + 1, total_step, loss.item()))               \n"
   ]
  },
  {
   "cell_type": "code",
   "execution_count": 31,
   "metadata": {},
   "outputs": [
    {
     "name": "stdout",
     "output_type": "stream",
     "text": [
      "Epoch [1/10], Step [100/938], Loss: 0.0512\n",
      "Epoch [1/10], Step [200/938], Loss: 0.0749\n",
      "Epoch [1/10], Step [300/938], Loss: 0.1291\n",
      "Epoch [1/10], Step [400/938], Loss: 0.0214\n",
      "Epoch [1/10], Step [500/938], Loss: 0.0183\n",
      "Epoch [1/10], Step [600/938], Loss: 0.0152\n",
      "Epoch [1/10], Step [700/938], Loss: 0.0164\n",
      "Epoch [1/10], Step [800/938], Loss: 0.1643\n",
      "Epoch [1/10], Step [900/938], Loss: 0.0828\n",
      "Epoch [2/10], Step [100/938], Loss: 0.0277\n",
      "Epoch [2/10], Step [200/938], Loss: 0.0443\n",
      "Epoch [2/10], Step [300/938], Loss: 0.0066\n",
      "Epoch [2/10], Step [400/938], Loss: 0.0202\n",
      "Epoch [2/10], Step [500/938], Loss: 0.2156\n",
      "Epoch [2/10], Step [600/938], Loss: 0.0079\n",
      "Epoch [2/10], Step [700/938], Loss: 0.1957\n",
      "Epoch [2/10], Step [800/938], Loss: 0.0029\n",
      "Epoch [2/10], Step [900/938], Loss: 0.0662\n",
      "Epoch [3/10], Step [100/938], Loss: 0.0927\n",
      "Epoch [3/10], Step [200/938], Loss: 0.0815\n",
      "Epoch [3/10], Step [300/938], Loss: 0.0267\n",
      "Epoch [3/10], Step [400/938], Loss: 0.0120\n",
      "Epoch [3/10], Step [500/938], Loss: 0.0047\n",
      "Epoch [3/10], Step [600/938], Loss: 0.0238\n",
      "Epoch [3/10], Step [700/938], Loss: 0.0368\n",
      "Epoch [3/10], Step [800/938], Loss: 0.0344\n",
      "Epoch [3/10], Step [900/938], Loss: 0.0021\n",
      "Epoch [4/10], Step [100/938], Loss: 0.0049\n",
      "Epoch [4/10], Step [200/938], Loss: 0.0824\n",
      "Epoch [4/10], Step [300/938], Loss: 0.0577\n",
      "Epoch [4/10], Step [400/938], Loss: 0.2391\n",
      "Epoch [4/10], Step [500/938], Loss: 0.0257\n",
      "Epoch [4/10], Step [600/938], Loss: 0.1301\n",
      "Epoch [4/10], Step [700/938], Loss: 0.0203\n",
      "Epoch [4/10], Step [800/938], Loss: 0.0587\n",
      "Epoch [4/10], Step [900/938], Loss: 0.0101\n",
      "Epoch [5/10], Step [100/938], Loss: 0.0783\n",
      "Epoch [5/10], Step [200/938], Loss: 0.0129\n",
      "Epoch [5/10], Step [300/938], Loss: 0.2215\n",
      "Epoch [5/10], Step [400/938], Loss: 0.4154\n",
      "Epoch [5/10], Step [500/938], Loss: 0.0041\n",
      "Epoch [5/10], Step [600/938], Loss: 0.0496\n",
      "Epoch [5/10], Step [700/938], Loss: 0.0037\n",
      "Epoch [5/10], Step [800/938], Loss: 0.0397\n",
      "Epoch [5/10], Step [900/938], Loss: 0.1663\n",
      "Epoch [6/10], Step [100/938], Loss: 0.1153\n",
      "Epoch [6/10], Step [200/938], Loss: 0.0575\n",
      "Epoch [6/10], Step [300/938], Loss: 0.0171\n",
      "Epoch [6/10], Step [400/938], Loss: 0.0881\n",
      "Epoch [6/10], Step [500/938], Loss: 0.4543\n",
      "Epoch [6/10], Step [600/938], Loss: 0.0095\n",
      "Epoch [6/10], Step [700/938], Loss: 0.0058\n",
      "Epoch [6/10], Step [800/938], Loss: 0.0421\n",
      "Epoch [6/10], Step [900/938], Loss: 0.0084\n",
      "Epoch [7/10], Step [100/938], Loss: 0.0027\n",
      "Epoch [7/10], Step [200/938], Loss: 0.0013\n",
      "Epoch [7/10], Step [300/938], Loss: 0.0638\n",
      "Epoch [7/10], Step [400/938], Loss: 0.0257\n",
      "Epoch [7/10], Step [500/938], Loss: 0.0161\n",
      "Epoch [7/10], Step [600/938], Loss: 0.0107\n",
      "Epoch [7/10], Step [700/938], Loss: 0.3090\n",
      "Epoch [7/10], Step [800/938], Loss: 0.0027\n",
      "Epoch [7/10], Step [900/938], Loss: 0.0708\n",
      "Epoch [8/10], Step [100/938], Loss: 0.0377\n",
      "Epoch [8/10], Step [200/938], Loss: 0.0690\n",
      "Epoch [8/10], Step [300/938], Loss: 0.0080\n",
      "Epoch [8/10], Step [400/938], Loss: 0.0387\n",
      "Epoch [8/10], Step [500/938], Loss: 0.0550\n",
      "Epoch [8/10], Step [600/938], Loss: 0.0654\n",
      "Epoch [8/10], Step [700/938], Loss: 0.0594\n",
      "Epoch [8/10], Step [800/938], Loss: 0.0030\n",
      "Epoch [8/10], Step [900/938], Loss: 0.0963\n",
      "Epoch [9/10], Step [100/938], Loss: 0.0242\n",
      "Epoch [9/10], Step [200/938], Loss: 0.0287\n",
      "Epoch [9/10], Step [300/938], Loss: 0.0047\n",
      "Epoch [9/10], Step [400/938], Loss: 0.1377\n",
      "Epoch [9/10], Step [500/938], Loss: 0.1506\n",
      "Epoch [9/10], Step [600/938], Loss: 0.0476\n",
      "Epoch [9/10], Step [700/938], Loss: 0.1607\n",
      "Epoch [9/10], Step [800/938], Loss: 0.0136\n",
      "Epoch [9/10], Step [900/938], Loss: 0.0328\n",
      "Epoch [10/10], Step [100/938], Loss: 0.0744\n",
      "Epoch [10/10], Step [200/938], Loss: 0.0828\n",
      "Epoch [10/10], Step [300/938], Loss: 0.0001\n",
      "Epoch [10/10], Step [400/938], Loss: 0.0616\n",
      "Epoch [10/10], Step [500/938], Loss: 0.0226\n",
      "Epoch [10/10], Step [600/938], Loss: 0.0047\n",
      "Epoch [10/10], Step [700/938], Loss: 0.1673\n",
      "Epoch [10/10], Step [800/938], Loss: 0.0054\n",
      "Epoch [10/10], Step [900/938], Loss: 0.0063\n"
     ]
    }
   ],
   "source": [
    "num_epochs = 10\n",
    "train(num_epochs, cnn, {'train': train_data_loader, 'test': test_data_loader} )"
   ]
  },
  {
   "cell_type": "code",
   "execution_count": 3,
   "metadata": {},
   "outputs": [
    {
     "name": "stdout",
     "output_type": "stream",
     "text": [
      "The tensorboard extension is already loaded. To reload it, use:\n",
      "  %reload_ext tensorboard\n"
     ]
    }
   ],
   "source": [
    "# Load the TensorBoard notebook extension\n",
    "%load_ext tensorboard\n",
    "from torch.utils.tensorboard import SummaryWriter\n"
   ]
  }
 ],
 "metadata": {
  "interpreter": {
   "hash": "cf55904fc61031f9bfb37f70c6ccc9e1067913af3eb653f463094c6d03d05cfa"
  },
  "kernelspec": {
   "display_name": "Python 3.9.12 ('venv': venv)",
   "language": "python",
   "name": "python3"
  },
  "language_info": {
   "codemirror_mode": {
    "name": "ipython",
    "version": 3
   },
   "file_extension": ".py",
   "mimetype": "text/x-python",
   "name": "python",
   "nbconvert_exporter": "python",
   "pygments_lexer": "ipython3",
   "version": "3.9.12"
  },
  "orig_nbformat": 4
 },
 "nbformat": 4,
 "nbformat_minor": 2
}
