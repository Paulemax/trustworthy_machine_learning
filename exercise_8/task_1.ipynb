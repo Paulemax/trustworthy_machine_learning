{
 "cells": [
  {
   "cell_type": "code",
   "execution_count": 223,
   "metadata": {},
   "outputs": [],
   "source": [
    "# Task 1\n",
    "\n",
    "import torchvision\n",
    "import torch\n",
    "import numpy as np"
   ]
  },
  {
   "cell_type": "code",
   "execution_count": 224,
   "metadata": {},
   "outputs": [],
   "source": [
    "train_set = torchvision.datasets.MNIST(\n",
    "   root=\"./data\",\n",
    "   download=True,\n",
    "   train=True,\n",
    "   transform=torchvision.transforms.ToTensor()\n",
    ")\n",
    "test_set = torchvision.datasets.MNIST(\n",
    "   root=\"./data\",\n",
    "   download=True,\n",
    "   train=False,\n",
    "   transform=torchvision.transforms.ToTensor()\n",
    ")\n",
    "\n",
    "amount = 500\n",
    "batch_size = 100\n",
    "epochs = 1\n",
    "workers = 8\n",
    "\n",
    "# torch.data.random_split\n",
    "shuffled_ind = np.random.permutation(np.arange(len(train_set)))\n",
    "\n",
    "calibration_set = torch.utils.data.Subset(train_set, shuffled_ind[:amount])\n",
    "train_set = torch.utils.data.Subset(train_set, shuffled_ind[amount:])\n",
    "\n",
    "# create Dataloaders\n",
    "train_loader = torch.utils.data.DataLoader(train_set, shuffle=True, batch_size=batch_size, num_workers=8)\n",
    "calibration_loader = torch.utils.data.DataLoader(calibration_set, shuffle=True, batch_size=batch_size, num_workers=8)\n",
    "test_loader = torch.utils.data.DataLoader(test_set, shuffle=False, batch_size=batch_size, num_workers=8)\n"
   ]
  },
  {
   "cell_type": "code",
   "execution_count": 225,
   "metadata": {},
   "outputs": [],
   "source": [
    "#Bad Net\n",
    "import pytorch_lightning as pl\n",
    "from torch import nn\n",
    "from torch.nn import functional\n",
    "import torch\n",
    "\n",
    "class BadNet(pl.LightningModule):\n",
    "\n",
    "    def __init__(self):\n",
    "        super(BadNet, self).__init__()        \n",
    "        self.conv1 = torch.nn.Sequential(         \n",
    "            nn.Conv2d(\n",
    "                in_channels=1,              \n",
    "                out_channels=16,            \n",
    "                kernel_size=5,              \n",
    "                stride=1,                   \n",
    "            ),                              \n",
    "            nn.ReLU(),                      \n",
    "            nn.AvgPool2d(kernel_size=(2, 2), stride=2),    \n",
    "        )\n",
    "        self.conv2 = nn.Sequential(         \n",
    "            nn.Conv2d(\n",
    "                in_channels=16, \n",
    "                out_channels=32, \n",
    "                kernel_size=5, \n",
    "                stride=1),     \n",
    "            nn.ReLU(),                      \n",
    "            nn.AvgPool2d(kernel_size=(2, 2), stride=2),                \n",
    "        )\n",
    "        self.f1 = nn.Sequential(\n",
    "            nn.Linear(in_features=(32 * 4 * 4), out_features=512),\n",
    "            nn.ReLU(),\n",
    "        )\n",
    "        # fully connected layer, output 10 classes\n",
    "        self.out = nn.Sequential(\n",
    "            nn.Linear(in_features=512, out_features=10),\n",
    "        )\n",
    "\n",
    "    def forward(self, x):\n",
    "        x = self.conv1(x)\n",
    "        x = self.conv2(x)        \n",
    "        # flatten the output of conv2 to (batch_size, 32 * 7 * 7)\n",
    "        x = x.view(x.size(0), -1)       \n",
    "        x = self.f1(x)\n",
    "        output = self.out(x)\n",
    "        return output\n",
    "\n",
    "    def training_step(self, batch, batch_idx):\n",
    "        # training_step defines the train loop.\n",
    "        # it is independent of forward\n",
    "        x, y = batch\n",
    "        out = self.forward(x)\n",
    "\n",
    "        loss = nn.functional.cross_entropy(out, y)\n",
    "        self.log(\"train_loss\", loss)\n",
    "        return loss\n",
    "\n",
    "    def test_step(self, batch, batch_idx):\n",
    "        # this is the test loop\n",
    "        x, y = batch\n",
    "        out = self.forward(x)\n",
    "        test_loss = nn.functional.cross_entropy(out, y)\n",
    "        self.log(\"test_loss\", test_loss)\n",
    "\n",
    "    def backward(self, loss, optimizer, optimizer_idx):\n",
    "        loss.backward(retain_graph=True)\n",
    "\n",
    "    def validation_step(self, batch, batch_idx):\n",
    "        x, y = batch\n",
    "        out = self.forward(x)\n",
    "        validiation_loss = nn.functional.cross_entropy(out, y)\n",
    "        self.log(\"validation_loss\", validiation_loss)\n",
    "\n",
    "    def configure_optimizers(self):\n",
    "        optimizer = torch.optim.Adam(self.parameters(), lr=1e-3)\n",
    "        return optimizer"
   ]
  },
  {
   "cell_type": "code",
   "execution_count": 226,
   "metadata": {},
   "outputs": [
    {
     "name": "stderr",
     "output_type": "stream",
     "text": [
      "GPU available: False, used: False\n",
      "TPU available: False, using: 0 TPU cores\n",
      "IPU available: False, using: 0 IPUs\n",
      "HPU available: False, using: 0 HPUs\n"
     ]
    }
   ],
   "source": [
    "bad_net = BadNet()\n",
    "trainer = pl.Trainer(max_epochs=epochs)"
   ]
  },
  {
   "cell_type": "code",
   "execution_count": 227,
   "metadata": {},
   "outputs": [
    {
     "name": "stderr",
     "output_type": "stream",
     "text": [
      "/home/paul/workspaces/PycharmProjects/trustworthy_machine_learning/venv/lib/python3.10/site-packages/pytorch_lightning/trainer/configuration_validator.py:133: UserWarning: You defined a `validation_step` but have no `val_dataloader`. Skipping val loop.\n",
      "  rank_zero_warn(\"You defined a `validation_step` but have no `val_dataloader`. Skipping val loop.\")\n",
      "\n",
      "  | Name  | Type       | Params\n",
      "-------------------------------------\n",
      "0 | conv1 | Sequential | 416   \n",
      "1 | conv2 | Sequential | 12.8 K\n",
      "2 | f1    | Sequential | 262 K \n",
      "3 | out   | Sequential | 5.1 K \n",
      "-------------------------------------\n",
      "281 K     Trainable params\n",
      "0         Non-trainable params\n",
      "281 K     Total params\n",
      "1.124     Total estimated model params size (MB)\n"
     ]
    },
    {
     "data": {
      "application/vnd.jupyter.widget-view+json": {
       "model_id": "19410508572f4ab8997b9c572bcb992a",
       "version_major": 2,
       "version_minor": 0
      },
      "text/plain": [
       "Training: 0it [00:00, ?it/s]"
      ]
     },
     "metadata": {},
     "output_type": "display_data"
    }
   ],
   "source": [
    "trainer.fit(model=bad_net, train_dataloaders=train_loader)"
   ]
  },
  {
   "cell_type": "code",
   "execution_count": 228,
   "metadata": {},
   "outputs": [],
   "source": [
    "# get accuracy and confidence for the calibration set\n",
    "from tqdm.notebook import tqdm\n",
    "import matplotlib.patches as mpatches\n",
    "import matplotlib.pyplot as plt\n",
    "\n",
    "def evaluate_network(model, dataloader, calibration_method=None):\n",
    "    model.eval()\n",
    "    predictions = []\n",
    "    labels = []\n",
    "    correct = 0\n",
    "    with torch.no_grad():\n",
    "        \n",
    "        for x, y in tqdm(dataloader):\n",
    "            prediction:torch.Tensor = model(x)\n",
    "\n",
    "            if calibration_method:\n",
    "                prediction = calibration_method(prediction)\n",
    "\n",
    "            prediction = nn.functional.softmax(prediction, dim=1)\n",
    "\n",
    "            _, predicted_label = torch.max(prediction, dim=1)\n",
    "            label_oh = nn.functional.one_hot(y, num_classes=10)\n",
    "            predictions.extend(prediction.detach().numpy())\n",
    "            labels.extend(label_oh.detach().numpy())\n",
    "            correct += sum(predicted_label == y)\n",
    "            \n",
    "    acc = correct / len(dataloader.dataset)\n",
    "    predictions = np.array(predictions)\n",
    "    labels = np.array(labels)\n",
    "\n",
    "    return acc, predictions, labels\n",
    "\n",
    "\n",
    "def calc_bins(predictions, labels, num_bins=10):\n",
    "    # Assign each prediction to a bin\n",
    "    bins = np.linspace(0.1, 1, num_bins)\n",
    "    binned = np.digitize(predictions, bins)\n",
    "\n",
    "    # Save the accuracy, confidence and size of each bin\n",
    "    bin_accs = np.zeros(num_bins)\n",
    "    bin_confs = np.zeros(num_bins)\n",
    "    bin_sizes = np.zeros(num_bins, dtype=np.int64)\n",
    "\n",
    "    for bin in range(num_bins):\n",
    "        current_bin = (binned == bin)\n",
    "        bin_sizes[bin] = len(predictions[current_bin])\n",
    "        if bin_sizes[bin] > 0:\n",
    "            bin_accs[bin] = (labels[current_bin]).sum() / bin_sizes[bin]\n",
    "            bin_confs[bin] = (predictions[current_bin]).sum() / bin_sizes[bin]\n",
    "\n",
    "    return bins, binned, bin_accs, bin_confs, bin_sizes\n",
    "\n",
    "\n",
    "def expected_calibration_error(bin_accs, bin_confs, bin_sizes):\n",
    "    return sum([(bs / sum(bin_sizes)) * abs(ba - bc) for (ba, bc, bs) in zip(bin_accs, bin_confs, bin_sizes)])\n",
    "\n",
    "\n",
    "def draw_reliability_graph(bins, bin_accs, ece):\n",
    "\n",
    "    fig = plt.figure(figsize=(8, 8))\n",
    "    ax = fig.gca()\n",
    "\n",
    "    # x/y limits\n",
    "    ax.set_xlim(0, 1.05)\n",
    "    ax.set_ylim(0, 1)\n",
    "\n",
    "    # x/y labels\n",
    "    plt.xlabel('Confidence')\n",
    "    plt.ylabel('Accuracy')\n",
    "\n",
    "    # Create grid\n",
    "    ax.set_axisbelow(True) \n",
    "    ax.grid(color='gray', linestyle='dashed')\n",
    "\n",
    "    # Error bars\n",
    "    plt.bar(bins, bins,  width=0.1, alpha=0.3, edgecolor='black', color='r', hatch='\\\\')\n",
    "\n",
    "    # Draw bars and identity line\n",
    "    plt.bar(bins, bin_accs, width=0.1, alpha=1, edgecolor='black', color='b')\n",
    "    plt.plot([0,1],[0,1], '--', color='gray', linewidth=2)\n",
    "\n",
    "    ECE_patch = mpatches.Patch(color='green', label='ECE = {:.2f}%'.format(ece*100))\n",
    "    plt.legend(handles=[ECE_patch])\n",
    "\n",
    "    # Equally spaced axes\n",
    "    plt.gca().set_aspect('equal', adjustable='box')\n",
    "\n",
    "    plt.show()\n",
    "\n",
    "\n",
    "def present_result(model, dataloader, calibration_method=None):\n",
    "    acc, preds, labels = evaluate_network(model, dataloader, calibration_method=calibration_method)\n",
    "    bins, _, bin_accs, bin_confs, bin_sizes= calc_bins(preds, labels)\n",
    "    ece = expected_calibration_error(bin_accs, bin_confs, bin_sizes)\n",
    "    draw_reliability_graph(bins, bin_accs, ece)\n"
   ]
  },
  {
   "cell_type": "code",
   "execution_count": 229,
   "metadata": {},
   "outputs": [
    {
     "data": {
      "application/vnd.jupyter.widget-view+json": {
       "model_id": "6cecd54917864c29b4c90936b16028e3",
       "version_major": 2,
       "version_minor": 0
      },
      "text/plain": [
       "  0%|          | 0/5 [00:00<?, ?it/s]"
      ]
     },
     "metadata": {},
     "output_type": "display_data"
    },
    {
     "data": {
      "image/png": "[encoded data removed]",
      "text/plain": [
       "<Figure size 576x576 with 1 Axes>"
      ]
     },
     "metadata": {
      "needs_background": "light"
     },
     "output_type": "display_data"
    }
   ],
   "source": [
    "present_result(bad_net, calibration_loader)"
   ]
  },
  {
   "cell_type": "code",
   "execution_count": 230,
   "metadata": {},
   "outputs": [],
   "source": [
    "# Part c\n",
    "\n",
    "def temperature_scaling(logits, temperature):\n",
    "    return torch.div(logits, temperature)\n",
    "\n",
    "def get_logits(model, dataloader):\n",
    "    logits = []\n",
    "    labels = []\n",
    "    model.eval()\n",
    "\n",
    "    for x, y in tqdm(dataloader):\n",
    "        with torch.no_grad():\n",
    "            logits.append(model(x))\n",
    "            labels.append(y)\n",
    "    \n",
    "    return torch.cat(logits), torch.cat(labels)\n",
    "      "
   ]
  },
  {
   "cell_type": "code",
   "execution_count": 231,
   "metadata": {},
   "outputs": [
    {
     "data": {
      "application/vnd.jupyter.widget-view+json": {
       "model_id": "ba081f0e611548b4b06b76758e0eda01",
       "version_major": 2,
       "version_minor": 0
      },
      "text/plain": [
       "  0%|          | 0/5 [00:00<?, ?it/s]"
      ]
     },
     "metadata": {},
     "output_type": "display_data"
    }
   ],
   "source": [
    "logits, labels = get_logits(bad_net, calibration_loader)"
   ]
  },
  {
   "cell_type": "code",
   "execution_count": 232,
   "metadata": {},
   "outputs": [
    {
     "data": {
      "application/vnd.jupyter.widget-view+json": {
       "model_id": "58e8d4cfbcef44289b7189030dcd53a0",
       "version_major": 2,
       "version_minor": 0
      },
      "text/plain": [
       "  0%|          | 0/5 [00:00<?, ?it/s]"
      ]
     },
     "metadata": {},
     "output_type": "display_data"
    },
    {
     "name": "stdout",
     "output_type": "stream",
     "text": [
      "torch.Size([500, 10]) torch.Size([500])\n"
     ]
    },
    {
     "data": {
      "text/plain": [
       "tensor(0.0827, grad_fn=<NllLossBackward0>)"
      ]
     },
     "execution_count": 232,
     "metadata": {},
     "output_type": "execute_result"
    }
   ],
   "source": [
    "temperature = nn.Parameter(torch.ones(1))\n",
    "optimizer = torch.optim.LBFGS([temperature], lr=0.001, max_iter=1000, line_search_fn=\"strong_wolfe\")\n",
    "\n",
    "temps = []\n",
    "losses = []\n",
    "\n",
    "logits, labels = get_logits(bad_net, calibration_loader)\n",
    "\n",
    "print(logits.shape, labels.shape)\n",
    "def _eval():\n",
    "  loss = nn.functional.cross_entropy(temperature_scaling(logits, temperature), labels)\n",
    "  loss.backward()\n",
    "  temps.append(temperature.detach().numpy())\n",
    "  losses.append(loss.detach().numpy())\n",
    "  return loss\n",
    "\n",
    "\n",
    "optimizer.step(_eval)\n"
   ]
  },
  {
   "cell_type": "code",
   "execution_count": 235,
   "metadata": {},
   "outputs": [
    {
     "data": {
      "image/png": "[encoded data removed]",
      "text/plain": [
       "<Figure size 432x288 with 2 Axes>"
      ]
     },
     "metadata": {
      "needs_background": "light"
     },
     "output_type": "display_data"
    }
   ],
   "source": [
    "plt.subplot(121)\n",
    "plt.plot(list(range(len(temps))), temps)\n",
    "\n",
    "plt.subplot(122)\n",
    "plt.plot(list(range(len(losses))), losses)\n",
    "plt.show()"
   ]
  },
  {
   "cell_type": "code",
   "execution_count": 234,
   "metadata": {},
   "outputs": [
    {
     "data": {
      "application/vnd.jupyter.widget-view+json": {
       "model_id": "8e280d467dd444a8abcce0b29c00b6e9",
       "version_major": 2,
       "version_minor": 0
      },
      "text/plain": [
       "  0%|          | 0/5 [00:00<?, ?it/s]"
      ]
     },
     "metadata": {},
     "output_type": "display_data"
    },
    {
     "data": {
      "image/png": "[encoded data removed]",
      "text/plain": [
       "<Figure size 576x576 with 1 Axes>"
      ]
     },
     "metadata": {
      "needs_background": "light"
     },
     "output_type": "display_data"
    },
    {
     "data": {
      "application/vnd.jupyter.widget-view+json": {
       "model_id": "61eb007747304c7fa5bdd76840e6b64a",
       "version_major": 2,
       "version_minor": 0
      },
      "text/plain": [
       "  0%|          | 0/5 [00:00<?, ?it/s]"
      ]
     },
     "metadata": {},
     "output_type": "display_data"
    },
    {
     "data": {
      "image/png": "[encoded data removed]",
      "text/plain": [
       "<Figure size 576x576 with 1 Axes>"
      ]
     },
     "metadata": {
      "needs_background": "light"
     },
     "output_type": "display_data"
    }
   ],
   "source": [
    "from functools import partial\n",
    "\n",
    "pt = partial(temperature_scaling, temperature=temperature)\n",
    "\n",
    "present_result(bad_net, calibration_loader)\n",
    "present_result(bad_net, calibration_loader, calibration_method=pt)\n",
    "\n"
   ]
  },
  {
   "cell_type": "markdown",
   "metadata": {},
   "source": [
    "# Task 2 Conformal Predictions"
   ]
  },
  {
   "cell_type": "code",
   "execution_count": 270,
   "metadata": {},
   "outputs": [],
   "source": [
    "def calc_prediction_sets(model, calibration_loader, test_loader, alpha=0.3):\n",
    "    calib_logits, calib_y = get_logits(model, calibration_loader)\n",
    "    n = len(calibration_loader)\n",
    "\n",
    "    probs = calib_logits.softmax(dim=1)\n",
    "\n",
    "    scores = 1 - torch.gather(probs, 1, calib_y.unsqueeze(dim=1))\n",
    "    print(scores.shape)\n",
    "    qhat = torch.quantile(scores, np.ceil((n + 1) * (1 - alpha))/n)\n",
    "    print(qhat)\n",
    "\n",
    "    test_logits, test_y = get_logits(model, test_loader)\n",
    "    smx = test_logits.softmax(dim=1)\n",
    "\n",
    "    return (smx > (1 - qhat)).nonzero()"
   ]
  },
  {
   "cell_type": "code",
   "execution_count": 271,
   "metadata": {},
   "outputs": [
    {
     "data": {
      "application/vnd.jupyter.widget-view+json": {
       "model_id": "2d4dba83a752471da2aa0207beed3d1f",
       "version_major": 2,
       "version_minor": 0
      },
      "text/plain": [
       "  0%|          | 0/5 [00:00<?, ?it/s]"
      ]
     },
     "metadata": {},
     "output_type": "display_data"
    },
    {
     "name": "stdout",
     "output_type": "stream",
     "text": [
      "torch.Size([500, 1])\n",
      "tensor(0.9874)\n"
     ]
    },
    {
     "data": {
      "application/vnd.jupyter.widget-view+json": {
       "model_id": "07f74c99c20149cb8087ce834881df33",
       "version_major": 2,
       "version_minor": 0
      },
      "text/plain": [
       "  0%|          | 0/100 [00:00<?, ?it/s]"
      ]
     },
     "metadata": {},
     "output_type": "display_data"
    }
   ],
   "source": [
    "prediction_sets = calc_prediction_sets(bad_net, calibration_loader, test_loader)"
   ]
  },
  {
   "cell_type": "code",
   "execution_count": 247,
   "metadata": {},
   "outputs": [],
   "source": [
    "from collections import defaultdict\n",
    "prediction_sets_ = defaultdict(list)\n",
    "\n",
    "for ps in prediction_sets:\n",
    "    a = prediction_sets_[ps[0].item()] \n",
    "    a.append(ps[1].item())\n"
   ]
  },
  {
   "cell_type": "code",
   "execution_count": 261,
   "metadata": {},
   "outputs": [],
   "source": [
    "hist = defaultdict(lambda: 0)\n",
    "for i, ps in prediction_sets_.items():\n",
    "    hist[len(ps)] += 1\n",
    "\n",
    "bins = np.array(list(hist.keys()))\n",
    "values = np.array(list(hist.values()))"
   ]
  },
  {
   "cell_type": "code",
   "execution_count": 267,
   "metadata": {},
   "outputs": [
    {
     "data": {
      "image/png": "[encoded data removed]",
      "text/plain": [
       "<Figure size 432x288 with 1 Axes>"
      ]
     },
     "metadata": {
      "needs_background": "light"
     },
     "output_type": "display_data"
    }
   ],
   "source": [
    "plt.bar(bins, values)\n",
    "plt.show()"
   ]
  },
  {
   "cell_type": "code",
   "execution_count": 280,
   "metadata": {},
   "outputs": [],
   "source": [
    "# The algorithm is also present in the linked paper, so just copy and paste as before\n",
    "def calc_better_prediction_sets(model, calibration_loader, test_loader, alpha=0.3):\n",
    "    n = len(calibration_loader)\n",
    "    logits_calib, y = get_logits(model, calibration_loader)\n",
    "    sorted, pi = logits_calib.softmax(dim=1).sort(dim=1, descending=True)\n",
    "    scores = sorted.cumsum(dim=1).gather(1, pi.argsort(1))[range(y.shape[0]), y]\n",
    "    print(scores.shape)\n",
    "\n",
    "    qhat = torch.quantile(scores, np.ceil((n + 1) * (1 - alpha)) / n)\n",
    "\n",
    "    logits_test, _ = get_logits(model, test_loader)\n",
    "    test_sorted, test_pi = logits_test.softmax(dim=1).sort(dim=1, descending=True)\n",
    "    sizes = (test_sorted.cumsum(dim=1) > qhat).int().argmax(dim=1)\n",
    "    \n",
    "    return [test_pi[i][:(sizes[i] + 1)] for i in range(sizes.shape[0])]"
   ]
  },
  {
   "cell_type": "code",
   "execution_count": 281,
   "metadata": {},
   "outputs": [
    {
     "data": {
      "application/vnd.jupyter.widget-view+json": {
       "model_id": "a1c3af3f0efd4f2393cb784d9e6ab02c",
       "version_major": 2,
       "version_minor": 0
      },
      "text/plain": [
       "  0%|          | 0/5 [00:00<?, ?it/s]"
      ]
     },
     "metadata": {},
     "output_type": "display_data"
    },
    {
     "name": "stdout",
     "output_type": "stream",
     "text": [
      "torch.Size([500])\n"
     ]
    },
    {
     "data": {
      "application/vnd.jupyter.widget-view+json": {
       "model_id": "555fa21de1ef4d26b3705b342c19c9ce",
       "version_major": 2,
       "version_minor": 0
      },
      "text/plain": [
       "  0%|          | 0/100 [00:00<?, ?it/s]"
      ]
     },
     "metadata": {},
     "output_type": "display_data"
    },
    {
     "name": "stdout",
     "output_type": "stream",
     "text": [
      "10000\n"
     ]
    }
   ],
   "source": [
    "predictions_sets_2 = calc_better_prediction_sets(bad_net, calibration_loader, test_loader)"
   ]
  },
  {
   "cell_type": "code",
   "execution_count": 290,
   "metadata": {},
   "outputs": [
    {
     "name": "stdout",
     "output_type": "stream",
     "text": [
      "[tensor([7]), tensor([2]), tensor([1]), tensor([0]), tensor([4])]\n"
     ]
    }
   ],
   "source": [
    "prediction_sets_2_ = defaultdict(list)\n",
    "\n",
    "for i, ps in enumerate(predictions_sets_2):\n",
    "    prediction_sets_2_[i] = ps.detach().numpy()"
   ]
  },
  {
   "cell_type": "code",
   "execution_count": 300,
   "metadata": {},
   "outputs": [],
   "source": [
    "hist_2 = defaultdict(lambda: 0)\n",
    "for i, ps in prediction_sets_.items():\n",
    "    hist_2[len(ps)] += 1\n",
    "\n",
    "bins_2 = np.array(list(hist_2.keys()))\n",
    "values_2 = np.array(list(hist_2.values()))"
   ]
  },
  {
   "cell_type": "code",
   "execution_count": 301,
   "metadata": {},
   "outputs": [
    {
     "name": "stdout",
     "output_type": "stream",
     "text": [
      "[1 2 4 3 6 5 7 8] [8380 1086  109  342   20   50   11    2]\n"
     ]
    }
   ],
   "source": [
    "print(bins_2, values_2)"
   ]
  },
  {
   "cell_type": "code",
   "execution_count": 302,
   "metadata": {},
   "outputs": [
    {
     "data": {
      "image/png": "[encoded data removed]",
      "text/plain": [
       "<Figure size 432x288 with 1 Axes>"
      ]
     },
     "metadata": {
      "needs_background": "light"
     },
     "output_type": "display_data"
    }
   ],
   "source": [
    "plt.bar(bins_2, values_2)\n",
    "plt.show()"
   ]
  }
 ],
 "metadata": {
  "kernelspec": {
   "display_name": "Python 3.10.5 ('venv': venv)",
   "language": "python",
   "name": "python3"
  },
  "language_info": {
   "codemirror_mode": {
    "name": "ipython",
    "version": 3
   },
   "file_extension": ".py",
   "mimetype": "text/x-python",
   "name": "python",
   "nbconvert_exporter": "python",
   "pygments_lexer": "ipython3",
   "version": "3.10.5"
  },
  "orig_nbformat": 4,
  "vscode": {
   "interpreter": {
    "hash": "b15c47a3642161de9e36b10a1d071c67059fa2fd42cde25fc64e01c54ad71872"
   }
  }
 },
 "nbformat": 4,
 "nbformat_minor": 2
}
