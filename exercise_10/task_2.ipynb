{
 "cells": [
  {
   "cell_type": "code",
   "execution_count": 1,
   "metadata": {},
   "outputs": [],
   "source": [
    "# Constants\n",
    "EPOCHS:int = 10\n",
    "# multiple of 2 helps with the queue later on\n",
    "BATCH_SIZE:int = 128\n",
    "NUM_WORKERS:int = 8\n",
    "MOONS: str = 'moons'\n",
    "BLOBS: str = 'blobs'"
   ]
  },
  {
   "cell_type": "code",
   "execution_count": 2,
   "metadata": {},
   "outputs": [
    {
     "name": "stderr",
     "output_type": "stream",
     "text": [
      "/home/paul/workspaces/PycharmProjects/trustworthy_machine_learning/venv/lib/python3.10/site-packages/torch/cuda/__init__.py:83: UserWarning: CUDA initialization: The NVIDIA driver on your system is too old (found version 9010). Please update your GPU driver by downloading and installing a new version from the URL: http://www.nvidia.com/Download/index.aspx Alternatively, go to: https://pytorch.org to install a PyTorch version that has been compiled with your version of the CUDA driver. (Triggered internally at  ../c10/cuda/CUDAFunctions.cpp:109.)\n",
      "  return torch._C._cuda_getDeviceCount() > 0\n"
     ]
    }
   ],
   "source": [
    "from dataclasses import dataclass\n",
    "from typing import Optional\n",
    "from torch import nn\n",
    "import pytorch_lightning as pl\n",
    "import torchmetrics\n",
    "import matplotlib.pyplot as plt\n",
    "%matplotlib inline\n",
    "import numpy as np\n",
    "import generate_data\n",
    "import torch\n",
    "from torch.utils.data import DataLoader, TensorDataset\n",
    "\n",
    "moons_Xintrain, moons_yintrain, moons_Xintest, moons_yintest, moons_Xout, moons_extent = generate_data.create_moons()\n",
    "blobs_Xintrain, blobs_yintrain, blobs_Xintest, blobs_yintest, blobs_Xout, blobs_extent = generate_data.create_blobs()\n",
    "\n",
    "# create dataloaders\n",
    "def create_dataloader(x:np.ndarray, y:np.ndarray, batch_size:int, shuffle:bool, num_workers:int) -> DataLoader:\n",
    "    ds = TensorDataset(torch.from_numpy(x).float(), torch.from_numpy(y).long())\n",
    "    dl = DataLoader(\n",
    "        dataset=ds,\n",
    "        batch_size=batch_size,\n",
    "        shuffle=shuffle,\n",
    "        num_workers=num_workers\n",
    "    )\n",
    "    return dl\n",
    "\n",
    "moons_train_dl = create_dataloader(moons_Xintrain, moons_yintrain, BATCH_SIZE, True, NUM_WORKERS)\n",
    "moons_test_dl = create_dataloader(moons_Xintest, moons_yintest, BATCH_SIZE, False, NUM_WORKERS)\n",
    "\n",
    "blobs_train_dl = create_dataloader(blobs_Xintrain, blobs_yintrain, BATCH_SIZE, True, NUM_WORKERS)\n",
    "blobs_test_dl = create_dataloader(blobs_Xintest, blobs_yintest, BATCH_SIZE, False, NUM_WORKERS)\n",
    "\n"
   ]
  },
  {
   "cell_type": "code",
   "execution_count": 116,
   "metadata": {},
   "outputs": [],
   "source": [
    "class ANN(pl.LightningModule):\n",
    "\n",
    "    def __init__(self):\n",
    "        super(ANN, self).__init__()        \n",
    "        self.h1 = torch.nn.Sequential(         \n",
    "            nn.Linear(in_features=2, out_features=32),\n",
    "            nn.ReLU()\n",
    "        )\n",
    "        self.h2 = torch.nn.Sequential(\n",
    "            nn.Linear(in_features=32, out_features=32),\n",
    "            nn.ReLU()\n",
    "        )\n",
    "        self.out = torch.nn.Sequential(\n",
    "            nn.Linear(in_features=32, out_features=2),\n",
    "            nn.Softmax(dim=0)\n",
    "        )\n",
    "        self.accuracy = torchmetrics.Accuracy(threshold=0.5)\n",
    "        self.test_labels:list[torch.Tensor] = []\n",
    "        self.sample_queue_input: Optional[torch.Tensor] = None\n",
    "        self.sample_queue_labels: Optional[torch.Tensor] = None\n",
    "\n",
    "    def forward(self, x):\n",
    "        x = self.h1(x)\n",
    "        x = self.h2(x)\n",
    "        output = self.out(x)\n",
    "\n",
    "        return output\n",
    "\n",
    "    def training_step(self, batch, batch_idx):\n",
    "        # training_step defines the train loop.\n",
    "        # it is independent of forward\n",
    "        if self.sample_queue_input is None:\n",
    "            self.sample_queue_input = torch.zeros((1024, 2))\n",
    "        if self.sample_queue_labels is None:\n",
    "            self.sample_queue_labels = torch.zeros((1024,))\n",
    "\n",
    "        x, y = self.sample(batch_idx, batch)\n",
    "\n",
    "        out = self.forward(x)\n",
    "        \n",
    "        loss = nn.functional.cross_entropy(out, y)\n",
    "        acc = self.accuracy(out, y)\n",
    "        self.log(\"train_loss\", loss, on_epoch=True)\n",
    "        self.log(\"train_accuracy\", acc, on_epoch=True)\n",
    "        return loss\n",
    "\n",
    "    def sample(self, batch_idx, batch):\n",
    "        x, y = batch\n",
    "        bs = x.shape[0]\n",
    "        windows = 1024 / bs\n",
    "        cw = batch_idx % windows\n",
    "        l = int(cw * bs) \n",
    "        u = int(l + bs)\n",
    "        # to avoid confusion the upper bound is not included in the slice, so an upper value of 1024 is allowed\n",
    "        self.sample_queue_input[l:u] = x.detach()\n",
    "        self.sample_queue_labels[l:u] = y.detach()\n",
    "\n",
    "        # only do the interesting stuff, if we have a full sample_queue\n",
    "        if batch_idx >= windows:\n",
    "            mv_0 = self.get_mvg_samples(0)\n",
    "            mv_1 = self.get_mvg_samples(1)\n",
    "            x = torch.cat([x, mv_0, mv_1])\n",
    "            y = torch.cat([y, torch.zeros(4).long(), torch.ones(4).long()])\n",
    "\n",
    "        return x, y\n",
    "\n",
    "    def get_mvg_samples(self, label):\n",
    "        # i am not sure if the sampling is correct\n",
    "        x = self.sample_queue_input[self.sample_queue_labels == label]\n",
    "        m = torch.mean(x, dim=0)\n",
    "        # okay, so the covariance matrix is not positive definite(pd)... and mvn needs a pd cov matrix\n",
    "        # to fix this we apply the trick from https://www.value-at-risk.net/non-positive-definite-covariance-matrices/\n",
    "        # other approach is to use the eigenvalue decomposition see:\n",
    "        # https://de.mathworks.com/matlabcentral/answers/320134-make-sample-covariance-correlation-matrix-positive-definite:w\n",
    "        c = torch.cov(x.T) + torch.eye(x.shape[1]) * 0.001\n",
    "        mvg = torch.distributions.multivariate_normal.MultivariateNormal(m, c)\n",
    "        sample = mvg.sample((1024, ))\n",
    "        _, ind = torch.sort(mvg.log_prob(sample), descending=False)\n",
    "        return sample[ind[:4]]\n",
    "\n",
    "\n",
    "    def test_step(self, batch, batch_idx):\n",
    "        # this is the test loop\n",
    "        x, y = batch\n",
    "        self.test_labels.append(y.detach())\n",
    "        out = self.forward(x)\n",
    "        acc = self.accuracy(out, y)\n",
    "        self.log(\"test_accuracy\", acc, on_epoch=True)\n",
    "\n",
    "    def backward(self, loss, optimizer, optimizer_idx):\n",
    "        loss.backward(retain_graph=True)\n",
    "\n",
    "    def configure_optimizers(self):\n",
    "        optimizer = torch.optim.Adam(self.parameters(), lr=1e-3)\n",
    "        return optimizer"
   ]
  },
  {
   "cell_type": "code",
   "execution_count": 117,
   "metadata": {},
   "outputs": [
    {
     "data": {
      "text/plain": [
       "<torch.utils.hooks.RemovableHandle at 0x7f5606be9f90>"
      ]
     },
     "execution_count": 117,
     "metadata": {},
     "output_type": "execute_result"
    }
   ],
   "source": [
    "net = ANN()\n",
    "\n",
    "activations = []\n",
    "def hook(_, __, output):\n",
    "    # detach is important!!!!! otherwise the model is not dropped from memory\n",
    "    activations.append(output.detach())\n",
    "\n",
    "net.h2.register_forward_hook(hook)\n"
   ]
  },
  {
   "cell_type": "code",
   "execution_count": 118,
   "metadata": {},
   "outputs": [
    {
     "name": "stderr",
     "output_type": "stream",
     "text": [
      "GPU available: False, used: False\n",
      "TPU available: False, using: 0 TPU cores\n",
      "IPU available: False, using: 0 IPUs\n",
      "HPU available: False, using: 0 HPUs\n",
      "\n",
      "  | Name     | Type       | Params\n",
      "----------------------------------------\n",
      "0 | h1       | Sequential | 96    \n",
      "1 | h2       | Sequential | 1.1 K \n",
      "2 | out      | Sequential | 66    \n",
      "3 | accuracy | Accuracy   | 0     \n",
      "----------------------------------------\n",
      "1.2 K     Trainable params\n",
      "0         Non-trainable params\n",
      "1.2 K     Total params\n",
      "0.005     Total estimated model params size (MB)\n",
      "/home/paul/workspaces/PycharmProjects/trustworthy_machine_learning/venv/lib/python3.10/site-packages/pytorch_lightning/trainer/trainer.py:1933: PossibleUserWarning: The number of training batches (25) is smaller than the logging interval Trainer(log_every_n_steps=50). Set a lower value for log_every_n_steps if you want to see logs for the training epoch.\n",
      "  rank_zero_warn(\n"
     ]
    },
    {
     "data": {
      "application/vnd.jupyter.widget-view+json": {
       "model_id": "6766b6d124cf42d8bb2fb14814ef048c",
       "version_major": 2,
       "version_minor": 0
      },
      "text/plain": [
       "Training: 0it [00:00, ?it/s]"
      ]
     },
     "metadata": {},
     "output_type": "display_data"
    }
   ],
   "source": [
    "trainer = pl.Trainer(max_epochs=EPOCHS)\n",
    "trainer.fit(model=net, train_dataloaders=moons_train_dl)"
   ]
  },
  {
   "cell_type": "code",
   "execution_count": null,
   "metadata": {},
   "outputs": [
    {
     "data": {
      "application/vnd.jupyter.widget-view+json": {
       "model_id": "00e24f0e3e314d4a9ae20a7e826cb58a",
       "version_major": 2,
       "version_minor": 0
      },
      "text/plain": [
       "Testing: 0it [00:00, ?it/s]"
      ]
     },
     "metadata": {},
     "output_type": "display_data"
    },
    {
     "name": "stdout",
     "output_type": "stream",
     "text": [
      "────────────────────────────────────────────────────────────────────────────────────────────────────────────────────────\n",
      "       Test metric             DataLoader 0\n",
      "────────────────────────────────────────────────────────────────────────────────────────────────────────────────────────\n",
      "      test_accuracy          0.800000011920929\n",
      "────────────────────────────────────────────────────────────────────────────────────────────────────────────────────────\n"
     ]
    },
    {
     "data": {
      "text/plain": [
       "[{'test_accuracy': 0.800000011920929}]"
      ]
     },
     "execution_count": 18,
     "metadata": {},
     "output_type": "execute_result"
    }
   ],
   "source": [
    "activations = []\n",
    "trainer.test(model=net, dataloaders=moons_test_dl)\n"
   ]
  },
  {
   "cell_type": "code",
   "execution_count": null,
   "metadata": {},
   "outputs": [],
   "source": [
    "x = activations[0]\n",
    "y = net.test_labels[0]"
   ]
  },
  {
   "cell_type": "code",
   "execution_count": null,
   "metadata": {},
   "outputs": [],
   "source": [
    "from sklearn.decomposition import PCA\n",
    "pca = PCA(n_components=2)\n",
    "principle_components = pca.fit_transform(x)"
   ]
  },
  {
   "cell_type": "code",
   "execution_count": null,
   "metadata": {},
   "outputs": [
    {
     "data": {
      "image/png": "[encoded data removed]",
      "text/plain": [
       "<Figure size 432x288 with 1 Axes>"
      ]
     },
     "metadata": {
      "needs_background": "light"
     },
     "output_type": "display_data"
    }
   ],
   "source": [
    "def scatter_plot(x, labels):\n",
    "    plt.scatter(x[::, 0], x[::, 1], c=labels)\n",
    "    plt.show()\n",
    "\n",
    "scatter_plot(principle_components, y.numpy())"
   ]
  }
 ],
 "metadata": {
  "kernelspec": {
   "display_name": "Python 3.10.5 ('venv': venv)",
   "language": "python",
   "name": "python3"
  },
  "language_info": {
   "codemirror_mode": {
    "name": "ipython",
    "version": 3
   },
   "file_extension": ".py",
   "mimetype": "text/x-python",
   "name": "python",
   "nbconvert_exporter": "python",
   "pygments_lexer": "ipython3",
   "version": "3.10.5"
  },
  "orig_nbformat": 4,
  "vscode": {
   "interpreter": {
    "hash": "b15c47a3642161de9e36b10a1d071c67059fa2fd42cde25fc64e01c54ad71872"
   }
  }
 },
 "nbformat": 4,
 "nbformat_minor": 2
}
