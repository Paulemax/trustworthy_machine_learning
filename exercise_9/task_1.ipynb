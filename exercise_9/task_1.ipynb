{
 "cells": [
  {
   "cell_type": "markdown",
   "metadata": {},
   "source": [
    "# Task 1\n",
    "\n",
    "Part a) Describe Domain adversarial training (dat) in your own words:\n",
    "\n",
    "- The goal of DAT is to train the Domain predictor and the label predictor at the same time\n",
    "- To achieve this goal we need to achieve two objectives\n",
    "    - minimize the error of the label predictor \n",
    "    - maximize the error of the domain predictor\n",
    "- These goals don't mix well together... \n",
    "    - therefore dann introduces an ANN architecture to solve this issue.\n",
    "    - the ANN is split in three \"models\", the feature extractor,     \n",
    "```mermaid\n",
    "graph TD;\n",
    "    FeatureExtractor -> LabelPredictor;\n",
    "    FeatureExtractor -> DomainPredictor;\n",
    "```\n",
    "gradient reversal layer to achieve this\n",
    "\n",
    "\n",
    "\n",
    "adept python for density estimation"
   ]
  },
  {
   "cell_type": "code",
   "execution_count": 20,
   "metadata": {},
   "outputs": [],
   "source": [
    "import torch\n",
    "import mnist_m\n",
    "import gradientreversal\n",
    "\n",
    "# constants\n",
    "NUM_WORKERS = 8\n",
    "BATCH_SIZE = 100\n",
    "EPOCHS = 10\n"
   ]
  },
  {
   "cell_type": "code",
   "execution_count": 21,
   "metadata": {},
   "outputs": [
    {
     "name": "stdout",
     "output_type": "stream",
     "text": [
      "tensor([[-1.],\n",
      "        [-1.],\n",
      "        [-1.],\n",
      "        [-1.],\n",
      "        [-1.],\n",
      "        [-1.],\n",
      "        [-1.],\n",
      "        [-1.],\n",
      "        [-1.],\n",
      "        [-1.]])\n"
     ]
    }
   ],
   "source": [
    "# create custom tensor\n",
    "t = torch.ones((10, 1), requires_grad=True)\n",
    "# apply the gradient reversal function\n",
    "gr = gradientreversal.grad_reverse(t)\n",
    "# scale to scalar\n",
    "l = gr.sum()\n",
    "# perform backwards pass and print grad\n",
    "l.backward()\n",
    "print(t.grad)"
   ]
  },
  {
   "cell_type": "markdown",
   "metadata": {},
   "source": [
    "What is the relevance of the parameter $\\alpha$ ?\n",
    "- scale the gradient\n",
    "- reverse it to get from min problem to max problem"
   ]
  },
  {
   "cell_type": "code",
   "execution_count": 22,
   "metadata": {},
   "outputs": [
    {
     "name": "stdout",
     "output_type": "stream",
     "text": [
      "./data/MNISTM/processed/mnist_m_train.pt\n",
      "./data/MNISTM/processed/mnist_m_test.pt\n"
     ]
    }
   ],
   "source": [
    "# Prepare mnist-m and show some samples\n",
    "import torchvision\n",
    "\n",
    "mnist_m_train = mnist_m.MNISTM(\n",
    "    root=\"./data\",\n",
    "    train=True,\n",
    "    download=True,\n",
    "    transform=torchvision.transforms.ToTensor()\n",
    ")\n",
    "\n",
    "mnist_m_test = mnist_m.MNISTM(\n",
    "    root=\"./data\",\n",
    "    train=False,\n",
    "    download=True,\n",
    "    transform=torchvision.transforms.ToTensor()\n",
    ")\n",
    "\n",
    "mnist_rgb_transform = torchvision.transforms.Compose([\n",
    "            torchvision.transforms.ToTensor(),            \n",
    "            torchvision.transforms.Lambda(lambda x: x.repeat(3, 1, 1)),\n",
    "            ])   \n",
    "            \n",
    "mnist_train = torchvision.datasets.MNIST(\n",
    "    root=\"./data\",\n",
    "    train=True,\n",
    "    download=True,\n",
    "    transform=mnist_rgb_transform\n",
    ")\n",
    "\n",
    "mnist_test = torchvision.datasets.MNIST(\n",
    "    root=\"./data\",\n",
    "    train=False,\n",
    "    download=True,\n",
    "    transform=mnist_rgb_transform\n",
    ")\n",
    "\n",
    "mnist_m_train_dataloader = torch.utils.data.DataLoader(mnist_m_train, batch_size=BATCH_SIZE, num_workers=NUM_WORKERS)\n",
    "mnist_m_test_dataloader = torch.utils.data.DataLoader(mnist_m_test, batch_size=BATCH_SIZE, num_workers=NUM_WORKERS)\n",
    "mnist_train_dataloader = torch.utils.data.DataLoader(mnist_train, batch_size=BATCH_SIZE, num_workers=NUM_WORKERS)\n",
    "mnist_test_dataloader = torch.utils.data.DataLoader(mnist_test, batch_size=BATCH_SIZE, num_workers=NUM_WORKERS)"
   ]
  },
  {
   "cell_type": "code",
   "execution_count": 23,
   "metadata": {},
   "outputs": [],
   "source": [
    "import matplotlib.pyplot as plt\n",
    "\n",
    "# python path magic, TODO make this a package and install via pip\n",
    "import os, sys\n",
    "currentdir = os.path.dirname(os.path.realpath(\".\"))\n",
    "sys.path.append(currentdir)\n",
    "\n",
    "import util_functions as uf\n",
    "\n",
    "%matplotlib inline"
   ]
  },
  {
   "cell_type": "code",
   "execution_count": 24,
   "metadata": {},
   "outputs": [
    {
     "name": "stdout",
     "output_type": "stream",
     "text": [
      "(28, 28, 3)\n"
     ]
    },
    {
     "data": {
      "image/png": "[encoded data removed]",
      "text/plain": [
       "<Figure size 432x288 with 1 Axes>"
      ]
     },
     "metadata": {
      "needs_background": "light"
     },
     "output_type": "display_data"
    },
    {
     "name": "stdout",
     "output_type": "stream",
     "text": [
      "(28, 28, 3)\n"
     ]
    },
    {
     "data": {
      "image/png": "[encoded data removed]",
      "text/plain": [
       "<Figure size 432x288 with 1 Axes>"
      ]
     },
     "metadata": {
      "needs_background": "light"
     },
     "output_type": "display_data"
    },
    {
     "name": "stdout",
     "output_type": "stream",
     "text": [
      "(28, 28, 3)\n"
     ]
    },
    {
     "data": {
      "image/png": "[encoded data removed]",
      "text/plain": [
       "<Figure size 432x288 with 1 Axes>"
      ]
     },
     "metadata": {
      "needs_background": "light"
     },
     "output_type": "display_data"
    },
    {
     "name": "stdout",
     "output_type": "stream",
     "text": [
      "(28, 28, 3)\n"
     ]
    },
    {
     "data": {
      "image/png": "[encoded data removed]",
      "text/plain": [
       "<Figure size 432x288 with 1 Axes>"
      ]
     },
     "metadata": {
      "needs_background": "light"
     },
     "output_type": "display_data"
    }
   ],
   "source": [
    "import numpy as np\n",
    "\n",
    "def show_image_rgb(x):\n",
    "    x = x.transpose((1, 2, 0))\n",
    "    print(x.shape)\n",
    "    x = np.clip(x, 0, 1)\n",
    "    plt.imshow(x)\n",
    "    plt.axis(\"off\")\n",
    "    plt.show()\n",
    "\n",
    "\n",
    "def visualize_from_dataloader(dataloader: torch.utils.data.DataLoader, samples: int) -> None:\n",
    "    if dataloader.batch_size < samples:\n",
    "        print(\"error\")\n",
    "\n",
    "    image, label = next(iter(dataloader))\n",
    "    for s in range(samples):\n",
    "        show_image_rgb(image[s].detach().numpy())\n",
    "\n",
    "visualize_from_dataloader(mnist_m_train_dataloader, 2)\n",
    "visualize_from_dataloader(mnist_train_dataloader, 2)"
   ]
  },
  {
   "cell_type": "code",
   "execution_count": 25,
   "metadata": {},
   "outputs": [],
   "source": [
    "# DANN and ANN\n",
    "import pytorch_lightning as pl\n",
    "from torch import nn\n",
    "\n",
    "class DANN(nn.Module):\n",
    "\n",
    "    def __init__(self):\n",
    "        super(DANN, self).__init__()        \n",
    "        self.feature_extractor = nn.Sequential(\n",
    "            nn.Conv2d(in_channels=3, out_channels=16, kernel_size=5, stride=1),                              \n",
    "            nn.ReLU(),                      \n",
    "            nn.AvgPool2d(kernel_size=(2, 2), stride=2),    \n",
    "            nn.Conv2d(in_channels=16, out_channels=32, kernel_size=5, stride=1),     \n",
    "            nn.ReLU(),                      \n",
    "            nn.AvgPool2d(kernel_size=(2, 2), stride=2),                \n",
    "        )\n",
    "        self.class_classifier = nn.Sequential(\n",
    "            nn.Linear(in_features=(32 * 4 * 4), out_features=512),\n",
    "            nn.ReLU(),\n",
    "            nn.Linear(in_features=512, out_features=10),\n",
    "            nn.Softmax(dim=1),\n",
    "        )\n",
    "        self.domain_classifier = nn.Sequential(\n",
    "            nn.Linear(in_features=(32 * 4 * 4), out_features=512),\n",
    "            nn.ReLU(),\n",
    "            nn.Linear(in_features=512, out_features=2),\n",
    "            nn.Softmax(dim=1),\n",
    "        )\n",
    "\n",
    "    def forward(self, x, alpha):\n",
    "        feature_out = self.feature_extractor(x)\n",
    "        feature_out = feature_out.view(feature_out.size(0), -1)       \n",
    "        class_out = self.class_classifier(feature_out)\n",
    "        domain_in = gradientreversal.grad_reverse(feature_out, alpha)\n",
    "        domain_out = self.domain_classifier(domain_in)\n",
    "        return class_out, domain_out\n",
    "\n",
    "\n",
    "class ANN(nn.Module):\n",
    "\n",
    "    def __init__(self):\n",
    "        super(ANN, self).__init__()        \n",
    "        self.feature_extractor = nn.Sequential(\n",
    "            nn.Conv2d(in_channels=3, out_channels=16, kernel_size=5, stride=1),                              \n",
    "            nn.ReLU(),                      \n",
    "            nn.AvgPool2d(kernel_size=(2, 2), stride=2),    \n",
    "            nn.Conv2d(in_channels=16, out_channels=32, kernel_size=5, stride=1),     \n",
    "            nn.ReLU(),                      \n",
    "            nn.AvgPool2d(kernel_size=(2, 2), stride=2),                \n",
    "        )\n",
    "        self.class_classifier = nn.Sequential(\n",
    "            nn.Linear(in_features=(32 * 4 * 4), out_features=512),\n",
    "            nn.ReLU(),\n",
    "            nn.Linear(in_features=512, out_features=10),\n",
    "            nn.Softmax(dim=1),\n",
    "        )\n",
    "\n",
    "    def forward(self, x):\n",
    "        feature_out = self.feature_extractor(x)\n",
    "        feature_out = feature_out.view(feature_out.size(0), -1)       \n",
    "        class_out = self.class_classifier(feature_out)\n",
    "        return class_out\n",
    "\n",
    "\n",
    "def train_ann(net:ANN, epochs, optimizer, dataloader):\n",
    "    for epoch in range(epochs):\n",
    "\n",
    "        for image, label in dataloader:\n",
    "\n",
    "            net.zero_grad()\n",
    "            out = net(image)\n",
    "            loss = nn.functional.nll_loss(out, label)\n",
    "\n",
    "            loss.backward()\n",
    "            optimizer.step()\n",
    "        \n",
    "        print(f\"finished epoch: {epoch}\")\n",
    "\n",
    "\n",
    "def train_dann(net:DANN, epochs, optimizer, dataloader_0, dataloader_1):\n",
    "    for epoch in range(epochs):\n",
    "        # calc alpha\n",
    "        alpha = 2. / (1+np.exp(-10. * epoch /(epochs-1))) - 1\n",
    "\n",
    "        for batch_0, batch_1 in zip(dataloader_0, dataloader_1):\n",
    "            image_0, label_0 = batch_0\n",
    "            image_1, label_1 = batch_1\n",
    "\n",
    "            net.zero_grad()\n",
    "            # define labels for the domain classifier\n",
    "            domain_label_0 = torch.zeros_like(label_0)\n",
    "            domain_label_1 = torch.ones_like(label_1)\n",
    "\n",
    "            class_out_0, domain_out_0 = net(image_0, alpha)\n",
    "            error_class_0 = nn.functional.nll_loss(class_out_0, label_0)\n",
    "            error_domain_0 = nn.functional.nll_loss(domain_out_0, domain_label_0)\n",
    "\n",
    "\n",
    "            _, domain_out_1 = net(image_1, alpha)\n",
    "            error_domain_1 = nn.functional.nll_loss(domain_out_1, domain_label_1)\n",
    "            \n",
    "            loss = error_class_0 + error_domain_0 + error_domain_1\n",
    "            loss.backward()\n",
    "            optimizer.step()\n",
    "        \n",
    "        print(f\"finished epoch: {epoch}\")\n",
    "\n",
    "\n",
    "def test_dann(net: DANN, dataloader:torch.utils.data.DataLoader) -> float:\n",
    "    correct = 0\n",
    "    for batch, (image, label) in enumerate(dataloader):\n",
    "        # alpha parameter is irrelevant here, since we do no backwards pass\n",
    "        class_out, domain_out = net(image, alpha=1.)\n",
    "        _, clo = torch.max(class_out, dim=1)\n",
    "        correct += torch.sum(clo == label)\n",
    "\n",
    "    return correct / len(dataloader)\n",
    "\n",
    "\n",
    "def test_network(net: ANN, dataloader:torch.utils.data.DataLoader) -> float:\n",
    "    correct = 0\n",
    "    for batch, (image, label) in enumerate(dataloader):\n",
    "        # alpha parameter is irrelevant here, since we do no backwards pass\n",
    "        class_out = net(image)\n",
    "        _, clo = torch.max(class_out, dim=1)\n",
    "        correct += torch.sum(clo == label)\n",
    "\n",
    "    return correct / len(dataloader)"
   ]
  },
  {
   "cell_type": "code",
   "execution_count": 27,
   "metadata": {},
   "outputs": [
    {
     "name": "stdout",
     "output_type": "stream",
     "text": [
      "finished epoch: 0\n",
      "finished epoch: 1\n",
      "finished epoch: 2\n",
      "finished epoch: 3\n",
      "finished epoch: 4\n",
      "finished epoch: 5\n",
      "finished epoch: 6\n",
      "finished epoch: 7\n",
      "finished epoch: 8\n",
      "finished epoch: 9\n"
     ]
    }
   ],
   "source": [
    "\n",
    "dann = DANN()\n",
    "for parameter in dann.parameters():\n",
    "    parameter.requires_grad = True\n",
    "    \n",
    "optimizer = torch.optim.Adam(dann.parameters(), lr=1e-3)\n",
    "\n",
    "train_dann(dann, EPOCHS, optimizer, mnist_train_dataloader, mnist_m_train_dataloader)"
   ]
  },
  {
   "cell_type": "code",
   "execution_count": 28,
   "metadata": {},
   "outputs": [
    {
     "name": "stdout",
     "output_type": "stream",
     "text": [
      "test_accuracy MNIST: 98.70999908447266 MNIST-M: 60.86000061035156\n"
     ]
    }
   ],
   "source": [
    "test_acc_mn = test_dann(dann, mnist_test_dataloader)\n",
    "test_acc_mnm = test_dann(dann, mnist_m_test_dataloader)\n",
    "\n",
    "print(f\"test_accuracy MNIST: {test_acc_mn} MNIST-M: {test_acc_mnm}\")"
   ]
  },
  {
   "cell_type": "code",
   "execution_count": 29,
   "metadata": {},
   "outputs": [
    {
     "name": "stdout",
     "output_type": "stream",
     "text": [
      "finished epoch: 0\n",
      "finished epoch: 1\n",
      "finished epoch: 2\n",
      "finished epoch: 3\n",
      "finished epoch: 4\n",
      "finished epoch: 5\n",
      "finished epoch: 6\n",
      "finished epoch: 7\n",
      "finished epoch: 8\n",
      "finished epoch: 9\n"
     ]
    }
   ],
   "source": [
    "ann = ANN()\n",
    "for parameter in ann.parameters():\n",
    "    parameter.requires_grad = True\n",
    "    \n",
    "optimizer = torch.optim.Adam(ann.parameters(), lr=1e-3)\n",
    "\n",
    "train_ann(ann, EPOCHS, optimizer, mnist_train_dataloader)"
   ]
  },
  {
   "cell_type": "code",
   "execution_count": 30,
   "metadata": {},
   "outputs": [
    {
     "name": "stdout",
     "output_type": "stream",
     "text": [
      "test_accuracy MNIST: 98.83999633789062 MNIST-M: 57.650001525878906\n"
     ]
    }
   ],
   "source": [
    "test_acc_mn = test_network(ann, mnist_test_dataloader)\n",
    "test_acc_mnm = test_network(ann, mnist_m_test_dataloader)\n",
    "torch.distributions.multivariate_normal\n",
    "\n",
    "print(f\"test_accuracy MNIST: {test_acc_mn} MNIST-M: {test_acc_mnm}\")"
   ]
  }
 ],
 "metadata": {
  "kernelspec": {
   "display_name": "Python 3.10.5 ('venv': venv)",
   "language": "python",
   "name": "python3"
  },
  "language_info": {
   "codemirror_mode": {
    "name": "ipython",
    "version": 3
   },
   "file_extension": ".py",
   "mimetype": "text/x-python",
   "name": "python",
   "nbconvert_exporter": "python",
   "pygments_lexer": "ipython3",
   "version": "3.10.5"
  },
  "orig_nbformat": 4,
  "vscode": {
   "interpreter": {
    "hash": "b15c47a3642161de9e36b10a1d071c67059fa2fd42cde25fc64e01c54ad71872"
   }
  }
 },
 "nbformat": 4,
 "nbformat_minor": 2
}
