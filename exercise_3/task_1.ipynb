{
 "cells": [
  {
   "cell_type": "markdown",
   "metadata": {},
   "source": [
    "# Part One, show that the two definitions are the equivalent\n",
    "\n",
    "- First step is to write down the sets for an example and see if we can find a pattern"
   ]
  },
  {
   "cell_type": "code",
   "execution_count": 18,
   "metadata": {},
   "outputs": [
    {
     "name": "stdout",
     "output_type": "stream",
     "text": [
      "[('a', 'c', 'b'), ('a', 'b', 'c'), ('c', 'a', 'b'), ('c', 'b', 'a'), ('b', 'a', 'c'), ('b', 'c', 'a')]\n",
      "----------------------a-------------------------------\n",
      "[()], [2]\n",
      "[('c',), ('b',)], [1, 1]\n",
      "[('c', 'b')], [2]\n",
      "----------------------c-------------------------------\n",
      "[()], [2]\n",
      "[('a',), ('b',)], [1, 1]\n",
      "[('a', 'b')], [2]\n",
      "----------------------b-------------------------------\n",
      "[()], [2]\n",
      "[('a',), ('c',)], [1, 1]\n",
      "[('a', 'c')], [2]\n"
     ]
    }
   ],
   "source": [
    "import itertools\n",
    "from math import factorial\n",
    "\n",
    "a = {\"a\", \"b\", \"c\"}\n",
    "\n",
    "perm = itertools.permutations(a)\n",
    "print(list(perm))\n",
    "\n",
    "pre_factor = lambda coal :(factorial(len(coal)) * factorial(len(a) - len(coal) - 1))\n",
    "\n",
    "for e in a:\n",
    "    print(f\"----------------------{e}-------------------------------\")\n",
    "    for i in range(len(a)):\n",
    "        coal = list(itertools.combinations(a - set(e), i))\n",
    "        print(f\"{coal}, {[pre_factor(c) for c in coal]}\")"
   ]
  },
  {
   "cell_type": "markdown",
   "metadata": {},
   "source": [
    "- The idea of the proof is to show, that for every set of players, $X$ there are $|S|! * (n - |S| - 1)$ sets where $P_{i}^{R} = S$\n",
    "\n",
    "- $\\phi_{i} = \\frac{1}{n!} * \\sum_{R} (v(P_{i}^{R} \\cup {i}) - v(P_{i}^{R}))$\n",
    "\n",
    "- As we can extrapolate from the cell above, if $P_{i}^{R} = S$ \n",
    "\n",
    "- there are $|S|!$ ways for the Players from $X$ to be infront of Player $i$\n",
    "\n",
    "- there are $(n - |S| - 1)!$ ways for the Players from $X \\setminus S \\cup {i}$ to be behind Player $i$\n",
    "  \n",
    "- $ => \\phi_{i} = \\sum_{S \\subset X \\setminus {i}} \\frac{|S|! (n - |S| - 1)!}{n!} * (v(S \\cup {i}) - v(S)) $\n"
   ]
  },
  {
   "cell_type": "markdown",
   "metadata": {},
   "source": [
    "# Part b, show completness / efficiency for Shapley Values\n",
    "\n",
    "## Efficiency: \n",
    "\n",
    "- $\\sum_{i \\in N} \\phi_{i}(v) = v(N)$\n",
    "\n",
    "- $\\sum_{i \\in N} \\phi_{i}(v) = \\frac{1}{|N|!} \\sum_{R} \\sum_{i \\in N} v(P_{i}^{R} \\cup {i}) - v(P_{i}^{R})$  Notes: The Order of sums can be exchanged\n",
    "\n",
    "- This is a telescoping sum, which means the terms cancel out and there are $|N|!$ different orderings of $R$\n",
    "    - writing this out in md is aids\n",
    "\n",
    "- $ = \\frac{1}{|N|!} * |N|! * v(N) = v(N) $\n",
    "\n",
    "### Symmetry, Linearity and Sensitivity follow from this\n",
    "\n",
    "## Cheaty Proof\n",
    "\n",
    "$\\phi_{i} $ is a concrete example of a auman-shapley method. Following the Frieedman 2004 Paper this method is a Path Method and therfore statisfys all these axioms\n"
   ]
  }
 ],
 "metadata": {
  "interpreter": {
   "hash": "cf55904fc61031f9bfb37f70c6ccc9e1067913af3eb653f463094c6d03d05cfa"
  },
  "kernelspec": {
   "display_name": "Python 3.9.12 ('venv': venv)",
   "language": "python",
   "name": "python3"
  },
  "language_info": {
   "codemirror_mode": {
    "name": "ipython",
    "version": 3
   },
   "file_extension": ".py",
   "mimetype": "text/x-python",
   "name": "python",
   "nbconvert_exporter": "python",
   "pygments_lexer": "ipython3",
   "version": "3.9.13"
  },
  "orig_nbformat": 4
 },
 "nbformat": 4,
 "nbformat_minor": 2
}
