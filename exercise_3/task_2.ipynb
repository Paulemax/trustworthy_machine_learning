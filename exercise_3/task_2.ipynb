{
 "cells": [
  {
   "cell_type": "code",
   "execution_count": null,
   "id": "a193bacc",
   "metadata": {},
   "outputs": [],
   "source": [
    "print(\"hallo\")\n"
   ]
  }
 ],
 "metadata": {},
 "nbformat": 4,
 "nbformat_minor": 5
}
