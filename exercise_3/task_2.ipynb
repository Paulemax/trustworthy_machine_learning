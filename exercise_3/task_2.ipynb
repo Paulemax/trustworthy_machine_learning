{
 "cells": [
  {
   "cell_type": "code",
   "execution_count": 1,
   "metadata": {},
   "outputs": [],
   "source": [
    "from math import factorial\n",
    "from typing import Callable\n",
    "from itertools import chain, combinations\n",
    "\n",
    "def value_function(coalition: set[str], shares: dict[str, int]) -> int:\n",
    "    shares = sum([shares[s] for s in coalition])\n",
    "    return int(shares > 50 or (shares == 50 and \"c\" in coalition))\n",
    "\n",
    "\n",
    "def shapley_value(player: set[str], players: set[str], v: Callable[[set[str]], float]) -> float:\n",
    "    X :set[str] = players - player\n",
    "    n: int = len(players)\n",
    "    f = lambda coal: (factorial(len(coal)) * factorial(n - len(coal) - 1) / factorial(n)) * (v(coal.union(player)) - v(coal)) \n",
    "\n",
    "    coalitions = chain.from_iterable(combinations(X, r) for r in range(len(X) + 1))\n",
    "    return sum([f(set(coal)) for coal in coalitions])\n",
    "\n"
   ]
  },
  {
   "cell_type": "code",
   "execution_count": 2,
   "metadata": {},
   "outputs": [
    {
     "name": "stdout",
     "output_type": "stream",
     "text": [
      "Player: 1 has a shapley value of :0.167\n",
      "Player: 2 has a shapley value of :0.167\n",
      "Player: c has a shapley value of :0.167\n",
      "Player: 3 has a shapley value of :0.500\n"
     ]
    }
   ],
   "source": [
    "from functools import partial\n",
    "\n",
    "# define shares and players\n",
    "shares = {\"1\": 20, \"2\": 30, \"3\": 50, \"c\": 0}\n",
    "players = {\"1\", \"2\", \"3\", \"c\"}\n",
    "\n",
    "# define a partial value function, to keep the interface of the shapley_value function clean\n",
    "v = partial(value_function, shares=shares)\n",
    "\n",
    "# calculate the shapley_value for every player\n",
    "for player in players:\n",
    "    s = shapley_value(set(player), players, v)\n",
    "    print(f\"Player: {player} has a shapley value of :{s:.3f}\")\n"
   ]
  }
 ],
 "metadata": {
  "interpreter": {
   "hash": "cf55904fc61031f9bfb37f70c6ccc9e1067913af3eb653f463094c6d03d05cfa"
  },
  "kernelspec": {
   "display_name": "Python 3.9.12 ('venv': venv)",
   "language": "python",
   "name": "python3"
  },
  "language_info": {
   "codemirror_mode": {
    "name": "ipython",
    "version": 3
   },
   "file_extension": ".py",
   "mimetype": "text/x-python",
   "name": "python",
   "nbconvert_exporter": "python",
   "pygments_lexer": "ipython3",
   "version": "3.9.13"
  },
  "orig_nbformat": 4
 },
 "nbformat": 4,
 "nbformat_minor": 2
}
